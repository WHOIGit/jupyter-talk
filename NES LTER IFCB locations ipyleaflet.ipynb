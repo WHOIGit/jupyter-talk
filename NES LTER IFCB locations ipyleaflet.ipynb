{
 "cells": [
  {
   "cell_type": "markdown",
   "metadata": {},
   "source": [
    "## Mapping IFCB locations with ipyleaflet"
   ]
  },
  {
   "cell_type": "markdown",
   "metadata": {},
   "source": [
    "Data contains timestamps, URLs, and lat/lon"
   ]
  },
  {
   "cell_type": "code",
   "execution_count": 1,
   "metadata": {},
   "outputs": [
    {
     "data": {
      "text/html": [
       "<div>\n",
       "<style scoped>\n",
       "    .dataframe tbody tr th:only-of-type {\n",
       "        vertical-align: middle;\n",
       "    }\n",
       "\n",
       "    .dataframe tbody tr th {\n",
       "        vertical-align: top;\n",
       "    }\n",
       "\n",
       "    .dataframe thead th {\n",
       "        text-align: right;\n",
       "    }\n",
       "</style>\n",
       "<table border=\"1\" class=\"dataframe\">\n",
       "  <thead>\n",
       "    <tr style=\"text-align: right;\">\n",
       "      <th></th>\n",
       "      <th>pid</th>\n",
       "      <th>latitude</th>\n",
       "      <th>longitude</th>\n",
       "    </tr>\n",
       "  </thead>\n",
       "  <tbody>\n",
       "    <tr>\n",
       "      <th>2018-01-31 17:43:21+00:00</th>\n",
       "      <td>http://ifcb-data.whoi.edu/NESLTER_transect/D20...</td>\n",
       "      <td>41.2125</td>\n",
       "      <td>-70.9224</td>\n",
       "    </tr>\n",
       "    <tr>\n",
       "      <th>2018-01-31 18:06:20+00:00</th>\n",
       "      <td>http://ifcb-data.whoi.edu/NESLTER_transect/D20...</td>\n",
       "      <td>41.1975</td>\n",
       "      <td>-70.8792</td>\n",
       "    </tr>\n",
       "    <tr>\n",
       "      <th>2018-01-31 18:29:33+00:00</th>\n",
       "      <td>http://ifcb-data.whoi.edu/NESLTER_transect/D20...</td>\n",
       "      <td>41.1932</td>\n",
       "      <td>-70.8755</td>\n",
       "    </tr>\n",
       "    <tr>\n",
       "      <th>2018-01-31 18:43:15+00:00</th>\n",
       "      <td>http://ifcb-data.whoi.edu/NESLTER_transect/D20...</td>\n",
       "      <td>41.1987</td>\n",
       "      <td>-70.8848</td>\n",
       "    </tr>\n",
       "    <tr>\n",
       "      <th>2018-01-31 19:06:27+00:00</th>\n",
       "      <td>http://ifcb-data.whoi.edu/NESLTER_transect/D20...</td>\n",
       "      <td>41.1972</td>\n",
       "      <td>-70.8812</td>\n",
       "    </tr>\n",
       "  </tbody>\n",
       "</table>\n",
       "</div>"
      ],
      "text/plain": [
       "                                                                         pid  \\\n",
       "2018-01-31 17:43:21+00:00  http://ifcb-data.whoi.edu/NESLTER_transect/D20...   \n",
       "2018-01-31 18:06:20+00:00  http://ifcb-data.whoi.edu/NESLTER_transect/D20...   \n",
       "2018-01-31 18:29:33+00:00  http://ifcb-data.whoi.edu/NESLTER_transect/D20...   \n",
       "2018-01-31 18:43:15+00:00  http://ifcb-data.whoi.edu/NESLTER_transect/D20...   \n",
       "2018-01-31 19:06:27+00:00  http://ifcb-data.whoi.edu/NESLTER_transect/D20...   \n",
       "\n",
       "                           latitude  longitude  \n",
       "2018-01-31 17:43:21+00:00   41.2125   -70.9224  \n",
       "2018-01-31 18:06:20+00:00   41.1975   -70.8792  \n",
       "2018-01-31 18:29:33+00:00   41.1932   -70.8755  \n",
       "2018-01-31 18:43:15+00:00   41.1987   -70.8848  \n",
       "2018-01-31 19:06:27+00:00   41.1972   -70.8812  "
      ]
     },
     "execution_count": 1,
     "metadata": {},
     "output_type": "execute_result"
    }
   ],
   "source": [
    "import warnings; warnings.simplefilter('ignore')\n",
    "import pandas as pd\n",
    "import os\n",
    "\n",
    "FILE='/home/joefutrelle/data/neslter/NESLTER_transect_ifcb_locations.csv'\n",
    "assert os.path.exists(FILE)\n",
    "\n",
    "df = pd.read_csv(FILE, index_col=0)\n",
    "df.head()"
   ]
  },
  {
   "cell_type": "markdown",
   "metadata": {},
   "source": [
    "Generate GeoJSON for each IFCB location, including URL as a property"
   ]
  },
  {
   "cell_type": "code",
   "execution_count": 2,
   "metadata": {},
   "outputs": [],
   "source": [
    "from ipyleaflet import GeoJSON\n",
    "\n",
    "def ifcb_point(lat, lon, pid):\n",
    "    return {\n",
    "        'type': 'Feature',\n",
    "        'properties': {\n",
    "            'URL': '{}.html'.format(pid)\n",
    "        },\n",
    "        'geometry': {\n",
    "            'type': 'Point',\n",
    "            'coordinates': [lon, lat]\n",
    "        }\n",
    "    }\n",
    "\n",
    "ifcb_points = []\n",
    "\n",
    "for _, pid, lat, lon in df.itertuples():\n",
    "    ifcb_points.append(ifcb_point(lat, lon, pid))\n",
    "    \n",
    "ifcb_layer = GeoJSON(data={'features': ifcb_points})"
   ]
  },
  {
   "cell_type": "markdown",
   "metadata": {},
   "source": [
    "Add a click handler that opens the URL in a new browser window"
   ]
  },
  {
   "cell_type": "code",
   "execution_count": 3,
   "metadata": {},
   "outputs": [],
   "source": [
    "import webbrowser\n",
    "\n",
    "def click_handler(event=None, id=None, properties=None):\n",
    "    # the 'properties' keyword gives us access to the clicked point's URL\n",
    "    webbrowser.open(properties['URL'])\n",
    "\n",
    "ifcb_layer.on_click(click_handler)"
   ]
  },
  {
   "cell_type": "markdown",
   "metadata": {},
   "source": [
    "Construct a map and add the IFCB locations layer to it.\n",
    "\n",
    "Using `Esri.NatGeoWorldMap` basemap. For a list of basemaps see [the source code](https://github.com/jupyter-widgets/ipyleaflet/blob/master/ipyleaflet/basemaps.py)."
   ]
  },
  {
   "cell_type": "code",
   "execution_count": 4,
   "metadata": {},
   "outputs": [
    {
     "data": {
      "application/vnd.jupyter.widget-view+json": {
       "model_id": "ac4acda05bdc46e48dfbd06a4a3db73b",
       "version_major": 2,
       "version_minor": 0
      },
      "text/plain": [
       "Map(basemap={'url': 'http://server.arcgisonline.com/ArcGIS/rest/services/NatGeo_World_Map/MapServer/tile/{z}/{…"
      ]
     },
     "metadata": {},
     "output_type": "display_data"
    }
   ],
   "source": [
    "from ipyleaflet import Map, basemaps, Circle\n",
    "\n",
    "basemap = basemaps.Esri.NatGeoWorldMap\n",
    "\n",
    "m = Map(center=(41, -70.6731), zoom=8, basemap=basemap)\n",
    "m.add_layer(ifcb_layer)\n",
    "m"
   ]
  }
 ],
 "metadata": {
  "kernelspec": {
   "display_name": "Python [conda env:jupyter-talk]",
   "language": "python",
   "name": "conda-env-jupyter-talk-py"
  },
  "language_info": {
   "codemirror_mode": {
    "name": "ipython",
    "version": 3
   },
   "file_extension": ".py",
   "mimetype": "text/x-python",
   "name": "python",
   "nbconvert_exporter": "python",
   "pygments_lexer": "ipython3",
   "version": "3.6.6"
  }
 },
 "nbformat": 4,
 "nbformat_minor": 2
}
