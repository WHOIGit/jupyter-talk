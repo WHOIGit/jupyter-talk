{
 "cells": [
  {
   "cell_type": "markdown",
   "metadata": {},
   "source": [
    "### Using Fortran with Jupyter widgets"
   ]
  },
  {
   "cell_type": "markdown",
   "metadata": {},
   "source": [
    "The Fortran magic allows you to write Fortran code and call it from Python. That way we can leverage notebook features while still using Fortran to do the numerical work."
   ]
  },
  {
   "cell_type": "code",
   "execution_count": 1,
   "metadata": {},
   "outputs": [
    {
     "data": {
      "application/javascript": [
       "new Promise(function(resolve, reject) {\n",
       "\tvar script = document.createElement(\"script\");\n",
       "\tscript.onload = resolve;\n",
       "\tscript.onerror = reject;\n",
       "\tscript.src = \"https://raw.github.com/marijnh/CodeMirror/master/mode/fortran/fortran.js\";\n",
       "\tdocument.head.appendChild(script);\n",
       "}).then(() => {\n",
       "IPython.config.cell_magic_highlight['magic_fortran'] = {'reg':[/^%%fortran/]};\n",
       "});"
      ]
     },
     "metadata": {},
     "output_type": "display_data"
    }
   ],
   "source": [
    "import warnings; warnings.simplefilter('ignore')\n",
    "%load_ext fortranmagic"
   ]
  },
  {
   "cell_type": "markdown",
   "metadata": {},
   "source": [
    "Create a simple Fortran subroutine"
   ]
  },
  {
   "cell_type": "code",
   "execution_count": 2,
   "metadata": {},
   "outputs": [],
   "source": [
    "%%fortran\n",
    "\n",
    "subroutine f1(x, y, z)\n",
    "    real, intent(in) :: x, y\n",
    "    real, intent(out) :: z\n",
    "    z = sin(x + y)\n",
    "end subroutine f1"
   ]
  },
  {
   "cell_type": "markdown",
   "metadata": {},
   "source": [
    "Call it from Python"
   ]
  },
  {
   "cell_type": "code",
   "execution_count": 4,
   "metadata": {},
   "outputs": [
    {
     "data": {
      "text/plain": [
       "-0.6636338829994202"
      ]
     },
     "execution_count": 4,
     "metadata": {},
     "output_type": "execute_result"
    }
   ],
   "source": [
    "f1(30, -1)"
   ]
  },
  {
   "cell_type": "code",
   "execution_count": 5,
   "metadata": {},
   "outputs": [
    {
     "data": {
      "application/vnd.jupyter.widget-view+json": {
       "model_id": "52f6d54f7ece417faab88ddefc828f90",
       "version_major": 2,
       "version_minor": 0
      },
      "text/plain": [
       "Label(value='f1(x,y) = 0.0')"
      ]
     },
     "metadata": {},
     "output_type": "display_data"
    },
    {
     "data": {
      "application/vnd.jupyter.widget-view+json": {
       "model_id": "b85f9ff812b14d87b97c86fe58ad1017",
       "version_major": 2,
       "version_minor": 0
      },
      "text/plain": [
       "FloatSlider(value=0.0, description='x', max=3.141592653589793, min=-3.141592653589793)"
      ]
     },
     "metadata": {},
     "output_type": "display_data"
    },
    {
     "data": {
      "application/vnd.jupyter.widget-view+json": {
       "model_id": "19d8dbd99f2849b590e206edb9512262",
       "version_major": 2,
       "version_minor": 0
      },
      "text/plain": [
       "FloatSlider(value=0.0, description='y', max=3.141592653589793, min=-3.141592653589793)"
      ]
     },
     "metadata": {},
     "output_type": "display_data"
    }
   ],
   "source": [
    "import numpy as np\n",
    "import ipywidgets as widgets\n",
    "from IPython.display import display\n",
    "\n",
    "# the interface consists of two sliders, one for x and one for y,\n",
    "# and a label to dispay the result of f1(x, y)\n",
    "\n",
    "# event handler for widget state change\n",
    "def handle_change(change):\n",
    "    # get the slider values\n",
    "    x, y = w_x.value, w_y.value\n",
    "    # call the Fortran function\n",
    "    z = f1(x, y)\n",
    "    # display the results\n",
    "    caption.value = 'f1(x,y) = {}'.format(z)\n",
    "\n",
    "# create the widgets\n",
    "caption = widgets.Label(value='')\n",
    "w_x = widgets.FloatSlider(min=0-np.pi, max=np.pi, value=0, description='x')\n",
    "w_y = widgets.FloatSlider(min=0-np.pi, max=np.pi, value=0, description='y')\n",
    "\n",
    "# attach the handler\n",
    "w_x.observe(handle_change, names='value')\n",
    "w_y.observe(handle_change, names='value')\n",
    "\n",
    "# perform initial step\n",
    "handle_change(None)\n",
    "\n",
    "# display the interface\n",
    "display(caption, w_x, w_y)"
   ]
  }
 ],
 "metadata": {
  "kernelspec": {
   "display_name": "Python [conda env:jupyter_fortran]",
   "language": "python",
   "name": "conda-env-jupyter_fortran-py"
  },
  "language_info": {
   "codemirror_mode": {
    "name": "ipython",
    "version": 3
   },
   "file_extension": ".py",
   "mimetype": "text/x-python",
   "name": "python",
   "nbconvert_exporter": "python",
   "pygments_lexer": "ipython3",
   "version": "3.6.6"
  }
 },
 "nbformat": 4,
 "nbformat_minor": 2
}
