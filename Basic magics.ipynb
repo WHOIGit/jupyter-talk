{
 "cells": [
  {
   "cell_type": "markdown",
   "metadata": {},
   "source": [
    "### Magics: the basics"
   ]
  },
  {
   "cell_type": "markdown",
   "metadata": {},
   "source": [
    "`timeit` line and cell magics allow you to measure code performance"
   ]
  },
  {
   "cell_type": "code",
   "execution_count": 1,
   "metadata": {},
   "outputs": [
    {
     "name": "stdout",
     "output_type": "stream",
     "text": [
      "502 ms ± 3.04 ms per loop (mean ± std. dev. of 7 runs, 1 loop each)\n"
     ]
    }
   ],
   "source": [
    "import numpy as np\n",
    "import warnings\n",
    "\n",
    "warnings.simplefilter('ignore')\n",
    "\n",
    "# generate ten million random numbers\n",
    "n = 10000000\n",
    "%timeit np.random.uniform(size=n)"
   ]
  },
  {
   "cell_type": "markdown",
   "metadata": {},
   "source": [
    "`HTML` cell magic lets you insert arbitrary HTML into the notebook"
   ]
  },
  {
   "cell_type": "code",
   "execution_count": 2,
   "metadata": {},
   "outputs": [
    {
     "data": {
      "text/html": [
       "\n",
       "<button id=\"mybutton\" onclick=\"alert('clicked!')\">Click me!</button>\n"
      ],
      "text/plain": [
       "<IPython.core.display.HTML object>"
      ]
     },
     "metadata": {},
     "output_type": "display_data"
    }
   ],
   "source": [
    "%%HTML\n",
    "\n",
    "<button id=\"mybutton\" onclick=\"alert('clicked!')\">Click me!</button>"
   ]
  },
  {
   "cell_type": "markdown",
   "metadata": {},
   "source": [
    "Likewise, `javascript` cell magic allows execution of arbitrary Javascript"
   ]
  },
  {
   "cell_type": "code",
   "execution_count": 3,
   "metadata": {},
   "outputs": [
    {
     "data": {
      "application/javascript": [
       "\n",
       "document.getElementById(\"mybutton\").innerHTML = \"Don't click me\";\n"
      ],
      "text/plain": [
       "<IPython.core.display.Javascript object>"
      ]
     },
     "metadata": {},
     "output_type": "display_data"
    }
   ],
   "source": [
    "%%javascript\n",
    "\n",
    "document.getElementById(\"mybutton\").innerHTML = \"Don't click me\";"
   ]
  },
  {
   "cell_type": "markdown",
   "metadata": {},
   "source": [
    "There are magics for many popular programming languages, as well"
   ]
  },
  {
   "cell_type": "code",
   "execution_count": 8,
   "metadata": {},
   "outputs": [
    {
     "name": "stdout",
     "output_type": "stream",
     "text": [
      "The rpy2.ipython extension is already loaded. To reload it, use:\n",
      "  %reload_ext rpy2.ipython\n"
     ]
    }
   ],
   "source": [
    "%load_ext rpy2.ipython"
   ]
  },
  {
   "cell_type": "code",
   "execution_count": 11,
   "metadata": {},
   "outputs": [],
   "source": [
    "%%R -o x\n",
    "\n",
    "x <- runif(1000)"
   ]
  },
  {
   "cell_type": "code",
   "execution_count": 12,
   "metadata": {},
   "outputs": [
    {
     "data": {
      "text/html": [
       "\n",
       "    <span>FloatVector with 1000 elements.</span>\n",
       "    <table>\n",
       "      <tbody>\n",
       "      <tr>\n",
       "      \n",
       "      <td>\n",
       "        0.784096\n",
       "      </td>\n",
       "      \n",
       "      <td>\n",
       "        0.999855\n",
       "      </td>\n",
       "      \n",
       "      <td>\n",
       "        0.402820\n",
       "      </td>\n",
       "      \n",
       "      <td>\n",
       "        0.286960\n",
       "      </td>\n",
       "      \n",
       "      <td>\n",
       "        ...\n",
       "      </td>\n",
       "      \n",
       "      <td>\n",
       "        0.365959\n",
       "      </td>\n",
       "      \n",
       "      <td>\n",
       "        0.551772\n",
       "      </td>\n",
       "      \n",
       "      <td>\n",
       "        0.811739\n",
       "      </td>\n",
       "      \n",
       "      <td>\n",
       "        0.992752\n",
       "      </td>\n",
       "      \n",
       "      </tr>\n",
       "      </tbody>\n",
       "    </table>\n",
       "    "
      ],
      "text/plain": [
       "R object with classes: ('numeric',) mapped to:\n",
       "<FloatVector - Python:0x7faf9c7c3ec8 / R:0x429d270>\n",
       "[0.784096, 0.999855, 0.402820, 0.286960, ..., 0.365959, 0.551772, 0.811739, 0.992752]"
      ]
     },
     "execution_count": 12,
     "metadata": {},
     "output_type": "execute_result"
    }
   ],
   "source": [
    "x"
   ]
  },
  {
   "cell_type": "markdown",
   "metadata": {},
   "source": [
    "Some magics provide access to the operating system, e.g., current working directory"
   ]
  },
  {
   "cell_type": "code",
   "execution_count": 13,
   "metadata": {},
   "outputs": [
    {
     "data": {
      "text/plain": [
       "'/home/joefutrelle/dev/jupyter-talk'"
      ]
     },
     "execution_count": 13,
     "metadata": {},
     "output_type": "execute_result"
    }
   ],
   "source": [
    "%pwd"
   ]
  },
  {
   "cell_type": "markdown",
   "metadata": {},
   "source": [
    "Access and modify your environment variables:"
   ]
  },
  {
   "cell_type": "code",
   "execution_count": 14,
   "metadata": {},
   "outputs": [
    {
     "data": {
      "text/plain": [
       "'/home/joefutrelle/miniconda3/envs/jupyter/bin:/home/joefutrelle/miniconda3/envs/jupyter/bin:/home/joefutrelle/miniconda3/envs/jupyter-talk/bin:/home/joefutrelle/miniconda3/bin:/usr/local/sbin:/usr/local/bin:/usr/sbin:/usr/bin:/sbin:/bin:/usr/games:/usr/local/games:/snap/bin'"
      ]
     },
     "execution_count": 14,
     "metadata": {},
     "output_type": "execute_result"
    }
   ],
   "source": [
    "%env PATH"
   ]
  },
  {
   "cell_type": "code",
   "execution_count": 15,
   "metadata": {},
   "outputs": [
    {
     "name": "stdout",
     "output_type": "stream",
     "text": [
      "env: MY_VAR=23\n"
     ]
    }
   ],
   "source": [
    "%env MY_VAR=23"
   ]
  },
  {
   "cell_type": "markdown",
   "metadata": {},
   "source": [
    "This isn't a magic, but you can run command lines from Jupyter as well"
   ]
  },
  {
   "cell_type": "code",
   "execution_count": 16,
   "metadata": {},
   "outputs": [
    {
     "name": "stdout",
     "output_type": "stream",
     "text": [
      "Filesystem      Size  Used Avail Use% Mounted on\r\n",
      "udev            2.3G     0  2.3G   0% /dev\r\n",
      "tmpfs           468M  1.4M  467M   1% /run\r\n",
      "/dev/sda1        99G   24G   70G  26% /\r\n",
      "tmpfs           2.3G   29M  2.3G   2% /dev/shm\r\n",
      "tmpfs           5.0M  4.0K  5.0M   1% /run/lock\r\n",
      "tmpfs           2.3G     0  2.3G   0% /sys/fs/cgroup\r\n",
      "/dev/loop0      3.8M  3.8M     0 100% /snap/gnome-system-monitor/51\r\n",
      "/dev/loop2       35M   35M     0 100% /snap/gtk-common-themes/319\r\n",
      "/dev/loop1       87M   87M     0 100% /snap/core/4917\r\n",
      "/dev/loop3      2.4M  2.4M     0 100% /snap/gnome-calculator/180\r\n",
      "/dev/loop4       13M   13M     0 100% /snap/gnome-characters/103\r\n",
      "/dev/loop5      141M  141M     0 100% /snap/gnome-3-26-1604/70\r\n",
      "/dev/loop6       15M   15M     0 100% /snap/gnome-logs/37\r\n",
      "/dev/loop7       88M   88M     0 100% /snap/core/5548\r\n",
      "/dev/loop8      141M  141M     0 100% /snap/gnome-3-26-1604/74\r\n",
      "/dev/loop11      15M   15M     0 100% /snap/gnome-logs/45\r\n",
      "/dev/loop9      3.8M  3.8M     0 100% /snap/gnome-system-monitor/57\r\n",
      "/dev/loop10      88M   88M     0 100% /snap/core/5662\r\n",
      "/dev/loop13     2.3M  2.3M     0 100% /snap/gnome-calculator/238\r\n",
      "/dev/loop12      43M   43M     0 100% /snap/gtk-common-themes/701\r\n",
      "/dev/loop14      13M   13M     0 100% /snap/gnome-characters/124\r\n",
      "tmpfs           468M   52K  468M   1% /run/user/1000\r\n"
     ]
    }
   ],
   "source": [
    "!df -h"
   ]
  }
 ],
 "metadata": {
  "kernelspec": {
   "display_name": "Python [conda env:jupyter-r]",
   "language": "python",
   "name": "conda-env-jupyter-r-py"
  },
  "language_info": {
   "codemirror_mode": {
    "name": "ipython",
    "version": 3
   },
   "file_extension": ".py",
   "mimetype": "text/x-python",
   "name": "python",
   "nbconvert_exporter": "python",
   "pygments_lexer": "ipython3",
   "version": "3.6.5"
  }
 },
 "nbformat": 4,
 "nbformat_minor": 2
}
